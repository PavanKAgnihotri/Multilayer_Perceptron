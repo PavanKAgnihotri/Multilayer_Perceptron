{
  "nbformat": 4,
  "nbformat_minor": 0,
  "metadata": {
    "colab": {
      "provenance": [],
      "gpuType": "T4"
    },
    "kernelspec": {
      "name": "python3",
      "display_name": "Python 3"
    },
    "language_info": {
      "name": "python"
    },
    "accelerator": "GPU"
  },
  "cells": [
    {
      "cell_type": "code",
      "execution_count": 3,
      "metadata": {
        "id": "e-xHVvSS_TMD"
      },
      "outputs": [],
      "source": [
        "import numpy as np\n",
        "import pickle\n",
        "import matplotlib.pyplot as plt\n",
        "\n",
        "import torch\n",
        "import torch.nn as nn\n",
        "import torch.optim as optim\n",
        "from torch.utils.data import DataLoader, random_split\n",
        "from torchvision import datasets\n",
        "from torchvision.transforms import ToTensor, transforms"
      ]
    },
    {
      "cell_type": "code",
      "source": [
        "#data preparation\n",
        "data = datasets.FashionMNIST(root= \"data\", train = True,download = True, transform = transforms.ToTensor())\n",
        "\n",
        "num_train = 40000\n",
        "num_valid = 10000\n",
        "num_test = 10000\n",
        "\n",
        "train_data, valid_data, test_data = random_split(data, [num_train, num_valid, num_test])\n",
        "\n",
        "train_dataloader = DataLoader(train_data, batch_size = 64, shuffle = True)\n",
        "valid_dataloader = DataLoader(valid_data, batch_size = 64, shuffle = True)\n",
        "test_dataloader = DataLoader(test_data, batch_size = 64, shuffle = True)"
      ],
      "metadata": {
        "colab": {
          "base_uri": "https://localhost:8080/"
        },
        "id": "ss4i4cKMASUI",
        "outputId": "afc61fc5-4374-42e0-9a09-e66c0e6a82a4"
      },
      "execution_count": 4,
      "outputs": [
        {
          "output_type": "stream",
          "name": "stdout",
          "text": [
            "Downloading http://fashion-mnist.s3-website.eu-central-1.amazonaws.com/train-images-idx3-ubyte.gz\n",
            "Downloading http://fashion-mnist.s3-website.eu-central-1.amazonaws.com/train-images-idx3-ubyte.gz to data/FashionMNIST/raw/train-images-idx3-ubyte.gz\n"
          ]
        },
        {
          "output_type": "stream",
          "name": "stderr",
          "text": [
            "100%|██████████| 26421880/26421880 [00:14<00:00, 1870478.40it/s]\n"
          ]
        },
        {
          "output_type": "stream",
          "name": "stdout",
          "text": [
            "Extracting data/FashionMNIST/raw/train-images-idx3-ubyte.gz to data/FashionMNIST/raw\n",
            "\n",
            "Downloading http://fashion-mnist.s3-website.eu-central-1.amazonaws.com/train-labels-idx1-ubyte.gz\n",
            "Downloading http://fashion-mnist.s3-website.eu-central-1.amazonaws.com/train-labels-idx1-ubyte.gz to data/FashionMNIST/raw/train-labels-idx1-ubyte.gz\n"
          ]
        },
        {
          "output_type": "stream",
          "name": "stderr",
          "text": [
            "100%|██████████| 29515/29515 [00:00<00:00, 135907.35it/s]\n"
          ]
        },
        {
          "output_type": "stream",
          "name": "stdout",
          "text": [
            "Extracting data/FashionMNIST/raw/train-labels-idx1-ubyte.gz to data/FashionMNIST/raw\n",
            "\n",
            "Downloading http://fashion-mnist.s3-website.eu-central-1.amazonaws.com/t10k-images-idx3-ubyte.gz\n",
            "Downloading http://fashion-mnist.s3-website.eu-central-1.amazonaws.com/t10k-images-idx3-ubyte.gz to data/FashionMNIST/raw/t10k-images-idx3-ubyte.gz\n"
          ]
        },
        {
          "output_type": "stream",
          "name": "stderr",
          "text": [
            "100%|██████████| 4422102/4422102 [00:01<00:00, 2550280.62it/s]\n"
          ]
        },
        {
          "output_type": "stream",
          "name": "stdout",
          "text": [
            "Extracting data/FashionMNIST/raw/t10k-images-idx3-ubyte.gz to data/FashionMNIST/raw\n",
            "\n",
            "Downloading http://fashion-mnist.s3-website.eu-central-1.amazonaws.com/t10k-labels-idx1-ubyte.gz\n",
            "Downloading http://fashion-mnist.s3-website.eu-central-1.amazonaws.com/t10k-labels-idx1-ubyte.gz to data/FashionMNIST/raw/t10k-labels-idx1-ubyte.gz\n"
          ]
        },
        {
          "output_type": "stream",
          "name": "stderr",
          "text": [
            "100%|██████████| 5148/5148 [00:00<00:00, 5802815.64it/s]"
          ]
        },
        {
          "output_type": "stream",
          "name": "stdout",
          "text": [
            "Extracting data/FashionMNIST/raw/t10k-labels-idx1-ubyte.gz to data/FashionMNIST/raw\n",
            "\n"
          ]
        },
        {
          "output_type": "stream",
          "name": "stderr",
          "text": [
            "\n"
          ]
        }
      ]
    },
    {
      "cell_type": "code",
      "source": [
        "# MLP Class\n",
        "class MLP(nn.Module):\n",
        "    def __init__(self, input, hidden, output, activation_fun, optimizer_method, alpha,device):\n",
        "        super(MLP, self).__init__()\n",
        "        #super().__init__()\n",
        "        self.flatten = nn.Flatten()\n",
        "        self.device = torch.device(device)\n",
        "        self.input = input\n",
        "        self.hidden = hidden\n",
        "        self.output = output\n",
        "        self.activation_fun = activation_fun\n",
        "        self.optimizer_method = optimizer_method\n",
        "        self.alpha = alpha\n",
        "\n",
        "        self.layers = nn.ModuleList()\n",
        "        old_size = input\n",
        "        for size in hidden:\n",
        "            self.layers.append(nn.Linear(old_size, size))\n",
        "            old_size = size\n",
        "        self.layers.append(nn.Linear(old_size, output))\n",
        "        if activation_fun == 'relu':\n",
        "            self.activation = nn.ReLU()\n",
        "        elif activation_fun == 'sigmoid':\n",
        "            self.activation = nn.Sigmoid()\n",
        "        elif activation_fun == 'tanh':\n",
        "            self.activation = nn.Tanh()\n",
        "        elif activation_fun == 'leaky_relu':\n",
        "            self.activation = nn.LeakyReLU()\n",
        "        else:\n",
        "            print(\"Invalid activation function.\")\n",
        "\n",
        "        if self.optimizer_method == 'adam':\n",
        "            self.optimizer = optim.Adam(self.parameters(), lr = self.alpha)\n",
        "        elif self.optimizer_method == 'adagrad':\n",
        "            self.optimizer = optim.Adagrad(self.parameters(), lr = self.alpha)\n",
        "        elif self.optimizer_method == 'sgd':\n",
        "            self.optimizer = optim.SGD(self.parameters(), lr = self.alpha)\n",
        "        else:\n",
        "            print(\"Unknown Optimizer Method:\" + self.optimizer_method)\n",
        "\n",
        "        self.dropout = nn.Dropout(0.2)\n",
        "        self.to(self.device)\n",
        "\n",
        "    def forward(self,x):\n",
        "        x = self.flatten(x).to(self.device)\n",
        "        for i in range(len(self.layers) - 1):\n",
        "            x = self.layers[i](x)\n",
        "            x = self.activation(x)\n",
        "            x = self.dropout(x)\n",
        "        x = self.layers[-1](x)\n",
        "        return x"
      ],
      "metadata": {
        "id": "sSIXD-DoA_Jk"
      },
      "execution_count": 5,
      "outputs": []
    },
    {
      "cell_type": "code",
      "source": [
        "def gpu_device():\n",
        "    device = (\"cuda\" if torch.cuda.is_available() else \"cpu\")\n",
        "    return device"
      ],
      "metadata": {
        "id": "OO2ImUSCFa4E"
      },
      "execution_count": 6,
      "outputs": []
    },
    {
      "cell_type": "code",
      "source": [
        "def save_img(img, label, file_name, num_rows = 28, num_cols = 28):\n",
        "    example = np.reshape(img, (num_rows, num_cols))\n",
        "    plt.matshow(example)\n",
        "    plt.title(\"This is a cloth \" + str(label))\n",
        "    plt.savefig(file_name)\n",
        "\n",
        "data_iter = iter(train_dataloader)\n",
        "images, labels = next(data_iter)\n",
        "\n",
        "save_img(images[0], labels[0], 'example.png')"
      ],
      "metadata": {
        "id": "j5ds9W1rHem5",
        "colab": {
          "base_uri": "https://localhost:8080/",
          "height": 459
        },
        "outputId": "7e7f1985-3ad5-4380-d415-2331ddf8f1eb"
      },
      "execution_count": 7,
      "outputs": [
        {
          "output_type": "display_data",
          "data": {
            "text/plain": [
              "<Figure size 480x480 with 1 Axes>"
            ],
            "image/png": "[encoded data removed]"
          },
          "metadata": {}
        }
      ]
    },
    {
      "cell_type": "code",
      "source": [
        "def training_model(model, train_dataloader, valid_dataloader, num_epochs,device, num_train_iters,num_valid_iters, batch_size):\n",
        "  best_acc = 0\n",
        "  model.train()\n",
        "  Optimizer = model.optimizer\n",
        "  for state in Optimizer.state.values():\n",
        "    for k, v in state.items():\n",
        "        if isinstance(v, torch.Tensor):\n",
        "            state[k] = v.to(device)\n",
        "  for epoch in range(num_epochs):\n",
        "      print('Epochs: ' + str(epoch)+' -------------------------')\n",
        "      avg_loss = 0\n",
        "      avg_acc = 0\n",
        "      for i, (x, y) in enumerate(train_dataloader):\n",
        "          x = x.to(model.device)\n",
        "          y = y.to(model.device)\n",
        "          Optimizer.zero_grad()\n",
        "          predict = model(x)\n",
        "          loss = nn.CrossEntropyLoss()(predict, y)\n",
        "          loss.backward()\n",
        "          Optimizer.step()\n",
        "          avg_loss += loss.item()\n",
        "          avg_acc += (predict.argmax(1) == y).sum().item()\n",
        "\n",
        "  avg_loss = avg_loss / num_train_iters\n",
        "  avg_acc = avg_acc / (num_train_iters * batch_size)\n",
        "  print('Training Loss: ' + str(avg_loss))\n",
        "  print('Training Accuracy: ' + str(avg_acc))\n",
        "\n",
        "  with torch.no_grad():\n",
        "    model.eval()\n",
        "    all_predict = []\n",
        "    all_labels = []\n",
        "    for i, (x, y) in enumerate(valid_dataloader):\n",
        "        x = x.to(model.device)\n",
        "        y = y.to(model.device)\n",
        "        predict = model(x)\n",
        "        all_predict.append(torch.argmax(predict, dim = 1))\n",
        "        all_labels.append(y)\n",
        "\n",
        "    all_predict = torch.cat(all_predict, dim = 0)\n",
        "    all_labels = torch.cat(all_labels, dim = 0)\n",
        "\n",
        "    acc = ((all_predict == all_labels).sum().item() / len(all_labels))*100\n",
        "    print('Validation Accuracy: ' + str(acc))\n",
        "    if acc > best_acc:\n",
        "        best_acc = acc\n",
        "        torch.save(model.state_dict(), 'best_model.pth')\n",
        "  model.load_state_dict(torch.load(\"best_model.pth\"))"
      ],
      "metadata": {
        "id": "m2sYlAoPHBss"
      },
      "execution_count": 8,
      "outputs": []
    },
    {
      "cell_type": "code",
      "source": [
        "def evaluate_model(model, test_dataloader, num_epochs, device):\n",
        "  model.eval()\n",
        "  all_predict = []\n",
        "  all_labels = []\n",
        "  with torch.no_grad():\n",
        "    for i, (x, y) in enumerate(test_dataloader):\n",
        "        x = x.to(model.device)\n",
        "        y = y.to(model.device)\n",
        "        predict = model(x)\n",
        "        all_predict.append(torch.argmax(predict,dim = 1))\n",
        "        all_labels.append(y)\n",
        "\n",
        "    all_predict = torch.cat(all_predict, dim = 0)\n",
        "    all_labels = torch.cat(all_labels)\n",
        "\n",
        "    test_acc = ((all_predict == all_labels).sum().item() / len(all_labels))*100\n",
        "    print('-------------------------------')\n",
        "    print('Test Accuracy: ' + str(test_acc))\n",
        "    c = torch.zeros(num_output, num_output)\n",
        "    for i in range(num_output):\n",
        "      indices = all_labels == i\n",
        "      count = torch.sum(indices).item()\n",
        "      assert count == all_predict[indices].size(0)\n",
        "      arr = all_predict[indices]\n",
        "      for j in range(num_output):\n",
        "          c[i,j] = torch.sum(arr == j).item() * 100/ count\n",
        "    print(\"Confusion_Matrix:\\n\",c)\n",
        "    plt.clf()\n",
        "    plt.matshow(c)\n",
        "    plt.savefig('Confusion_Matrix.png')\n",
        "\n",
        "    print('Done')\n"
      ],
      "metadata": {
        "id": "K-syk1UiKvZt"
      },
      "execution_count": 9,
      "outputs": []
    },
    {
      "cell_type": "code",
      "source": [
        "num_input = 28*28\n",
        "num_hidden = input(\"Enter the number of neurons in hidden layer, as comma separated values eg. 64,32 or 128,64,32\\n\")\n",
        "num_hidden = [int(x) for x in num_hidden.split(',')]\n",
        "num_output = 10\n",
        "alpha = 1e-4\n",
        "num_epochs = 100\n",
        "batch_size = 64\n",
        "num_train_iters = len(train_dataloader) // batch_size\n",
        "num_valid_iters = len(valid_dataloader) // batch_size\n",
        "num_test_iters = len(test_dataloader) // batch_size\n",
        "\n",
        "device = gpu_device()\n",
        "model = MLP(num_input, num_hidden, num_output, 'relu', 'adam', alpha, device)\n",
        "#model1 = MLP(num_input, num_hidden, num_output, 'relu', 'adagrad', alpha, device)\n",
        "training_model(model, train_dataloader, valid_dataloader, num_epochs, device,num_train_iters,num_valid_iters,batch_size)\n",
        "#training_model(model1, train_dataloader, valid_dataloader, num_epochs, device,num_train_iters,num_valid_iters,batch_size)\n"
      ],
      "metadata": {
        "colab": {
          "base_uri": "https://localhost:8080/"
        },
        "id": "41Yjo6KXPqNN",
        "outputId": "55470263-c1c5-4355-9757-ef61bc44bd40"
      },
      "execution_count": 10,
      "outputs": [
        {
          "output_type": "stream",
          "name": "stdout",
          "text": [
            "Enter the number of neurons in hidden layer, as comma separated values eg. 64,32 or 128,64,32\n",
            "64,32\n",
            "Epochs: 0 -------------------------\n",
            "Epochs: 1 -------------------------\n",
            "Epochs: 2 -------------------------\n",
            "Epochs: 3 -------------------------\n",
            "Epochs: 4 -------------------------\n",
            "Epochs: 5 -------------------------\n",
            "Epochs: 6 -------------------------\n",
            "Epochs: 7 -------------------------\n",
            "Epochs: 8 -------------------------\n",
            "Epochs: 9 -------------------------\n",
            "Epochs: 10 -------------------------\n",
            "Epochs: 11 -------------------------\n",
            "Epochs: 12 -------------------------\n",
            "Epochs: 13 -------------------------\n",
            "Epochs: 14 -------------------------\n",
            "Epochs: 15 -------------------------\n",
            "Epochs: 16 -------------------------\n",
            "Epochs: 17 -------------------------\n",
            "Epochs: 18 -------------------------\n",
            "Epochs: 19 -------------------------\n",
            "Epochs: 20 -------------------------\n",
            "Epochs: 21 -------------------------\n",
            "Epochs: 22 -------------------------\n",
            "Epochs: 23 -------------------------\n",
            "Epochs: 24 -------------------------\n",
            "Epochs: 25 -------------------------\n",
            "Epochs: 26 -------------------------\n",
            "Epochs: 27 -------------------------\n",
            "Epochs: 28 -------------------------\n",
            "Epochs: 29 -------------------------\n",
            "Epochs: 30 -------------------------\n",
            "Epochs: 31 -------------------------\n",
            "Epochs: 32 -------------------------\n",
            "Epochs: 33 -------------------------\n",
            "Epochs: 34 -------------------------\n",
            "Epochs: 35 -------------------------\n",
            "Epochs: 36 -------------------------\n",
            "Epochs: 37 -------------------------\n",
            "Epochs: 38 -------------------------\n",
            "Epochs: 39 -------------------------\n",
            "Epochs: 40 -------------------------\n",
            "Epochs: 41 -------------------------\n",
            "Epochs: 42 -------------------------\n",
            "Epochs: 43 -------------------------\n",
            "Epochs: 44 -------------------------\n",
            "Epochs: 45 -------------------------\n",
            "Epochs: 46 -------------------------\n",
            "Epochs: 47 -------------------------\n",
            "Epochs: 48 -------------------------\n",
            "Epochs: 49 -------------------------\n",
            "Epochs: 50 -------------------------\n",
            "Epochs: 51 -------------------------\n",
            "Epochs: 52 -------------------------\n",
            "Epochs: 53 -------------------------\n",
            "Epochs: 54 -------------------------\n",
            "Epochs: 55 -------------------------\n",
            "Epochs: 56 -------------------------\n",
            "Epochs: 57 -------------------------\n",
            "Epochs: 58 -------------------------\n",
            "Epochs: 59 -------------------------\n",
            "Epochs: 60 -------------------------\n",
            "Epochs: 61 -------------------------\n",
            "Epochs: 62 -------------------------\n",
            "Epochs: 63 -------------------------\n",
            "Epochs: 64 -------------------------\n",
            "Epochs: 65 -------------------------\n",
            "Epochs: 66 -------------------------\n",
            "Epochs: 67 -------------------------\n",
            "Epochs: 68 -------------------------\n",
            "Epochs: 69 -------------------------\n",
            "Epochs: 70 -------------------------\n",
            "Epochs: 71 -------------------------\n",
            "Epochs: 72 -------------------------\n",
            "Epochs: 73 -------------------------\n",
            "Epochs: 74 -------------------------\n",
            "Epochs: 75 -------------------------\n",
            "Epochs: 76 -------------------------\n",
            "Epochs: 77 -------------------------\n",
            "Epochs: 78 -------------------------\n",
            "Epochs: 79 -------------------------\n",
            "Epochs: 80 -------------------------\n",
            "Epochs: 81 -------------------------\n",
            "Epochs: 82 -------------------------\n",
            "Epochs: 83 -------------------------\n",
            "Epochs: 84 -------------------------\n",
            "Epochs: 85 -------------------------\n",
            "Epochs: 86 -------------------------\n",
            "Epochs: 87 -------------------------\n",
            "Epochs: 88 -------------------------\n",
            "Epochs: 89 -------------------------\n",
            "Epochs: 90 -------------------------\n",
            "Epochs: 91 -------------------------\n",
            "Epochs: 92 -------------------------\n",
            "Epochs: 93 -------------------------\n",
            "Epochs: 94 -------------------------\n",
            "Epochs: 95 -------------------------\n",
            "Epochs: 96 -------------------------\n",
            "Epochs: 97 -------------------------\n",
            "Epochs: 98 -------------------------\n",
            "Epochs: 99 -------------------------\n",
            "Training Loss: 19.56958084470696\n",
            "Training Accuracy: 62.50694444444444\n",
            "Validation Accuracy: 88.9\n"
          ]
        },
        {
          "output_type": "stream",
          "name": "stderr",
          "text": [
            "<ipython-input-8-700134b260be>:48: FutureWarning: You are using `torch.load` with `weights_only=False` (the current default value), which uses the default pickle module implicitly. It is possible to construct malicious pickle data which will execute arbitrary code during unpickling (See https://github.com/pytorch/pytorch/blob/main/SECURITY.md#untrusted-models for more details). In a future release, the default value for `weights_only` will be flipped to `True`. This limits the functions that could be executed during unpickling. Arbitrary objects will no longer be allowed to be loaded via this mode unless they are explicitly allowlisted by the user via `torch.serialization.add_safe_globals`. We recommend you start setting `weights_only=True` for any use case where you don't have full control of the loaded file. Please open an issue on GitHub for any issues related to this experimental feature.\n",
            "  model.load_state_dict(torch.load(\"best_model.pth\"))\n"
          ]
        }
      ]
    },
    {
      "cell_type": "markdown",
      "source": [],
      "metadata": {
        "id": "anpSVyfgRdBp"
      }
    },
    {
      "cell_type": "code",
      "source": [
        "evaluate_model(model, test_dataloader, num_test_iters, device)\n",
        "#evaluate_model(model1, test_dataloader, num_test_iters, device)"
      ],
      "metadata": {
        "id": "9-N0JyhDP19a",
        "colab": {
          "base_uri": "https://localhost:8080/",
          "height": 883
        },
        "outputId": "b37b0eb5-f4dd-412a-d875-d6a593483ec5"
      },
      "execution_count": 11,
      "outputs": [
        {
          "output_type": "stream",
          "name": "stdout",
          "text": [
            "-------------------------------\n",
            "Test Accuracy: 87.9\n",
            "Confusion_Matrix:\n",
            " tensor([[8.7122e+01, 1.9512e-01, 1.7561e+00, 2.6341e+00, 3.9024e-01, 9.7561e-02,\n",
            "         6.8293e+00, 0.0000e+00, 9.7561e-01, 0.0000e+00],\n",
            "        [1.0299e-01, 9.7528e+01, 1.0299e-01, 2.0597e+00, 1.0299e-01, 0.0000e+00,\n",
            "         1.0299e-01, 0.0000e+00, 0.0000e+00, 0.0000e+00],\n",
            "        [1.0924e+00, 2.9791e-01, 8.2324e+01, 6.9513e-01, 9.2354e+00, 9.9305e-02,\n",
            "         5.9583e+00, 0.0000e+00, 2.9791e-01, 0.0000e+00],\n",
            "        [3.4965e+00, 6.9930e-01, 7.9920e-01, 9.0110e+01, 2.5974e+00, 9.9900e-02,\n",
            "         1.8981e+00, 9.9900e-02, 1.9980e-01, 0.0000e+00],\n",
            "        [2.9586e-01, 0.0000e+00, 9.9606e+00, 4.2406e+00, 8.1164e+01, 0.0000e+00,\n",
            "         4.2406e+00, 0.0000e+00, 9.8619e-02, 0.0000e+00],\n",
            "        [0.0000e+00, 0.0000e+00, 0.0000e+00, 1.0331e-01, 0.0000e+00, 9.6488e+01,\n",
            "         0.0000e+00, 1.9628e+00, 3.0992e-01, 1.1364e+00],\n",
            "        [1.5279e+01, 0.0000e+00, 1.0872e+01, 2.5465e+00, 8.3252e+00, 0.0000e+00,\n",
            "         6.1606e+01, 0.0000e+00, 1.3712e+00, 0.0000e+00],\n",
            "        [0.0000e+00, 0.0000e+00, 0.0000e+00, 0.0000e+00, 0.0000e+00, 3.0556e+00,\n",
            "         0.0000e+00, 9.2778e+01, 9.2593e-02, 4.0741e+00],\n",
            "        [2.9821e-01, 0.0000e+00, 4.9702e-01, 4.9702e-01, 1.9881e-01, 3.9761e-01,\n",
            "         8.9463e-01, 4.9702e-01, 9.6322e+01, 3.9761e-01],\n",
            "        [0.0000e+00, 0.0000e+00, 0.0000e+00, 0.0000e+00, 0.0000e+00, 8.8203e-01,\n",
            "         0.0000e+00, 4.0794e+00, 0.0000e+00, 9.5039e+01]])\n",
            "Done\n"
          ]
        },
        {
          "output_type": "display_data",
          "data": {
            "text/plain": [
              "<Figure size 640x480 with 0 Axes>"
            ]
          },
          "metadata": {}
        },
        {
          "output_type": "display_data",
          "data": {
            "text/plain": [
              "<Figure size 480x480 with 1 Axes>"
            ],
            "image/png": "[encoded data removed]"
          },
          "metadata": {}
        }
      ]
    },
    {
      "cell_type": "code",
      "source": [],
      "metadata": {
        "colab": {
          "base_uri": "https://localhost:8080/",
          "height": 17
        },
        "id": "M_W74oaEFzB0",
        "outputId": "f3e6cbc1-e3e6-43d8-8155-5d21c5611c6b"
      },
      "execution_count": null,
      "outputs": [
        {
          "output_type": "display_data",
          "data": {
            "text/plain": [
              "<IPython.core.display.Javascript object>"
            ],
            "application/javascript": [
              "\n",
              "    async function download(id, filename, size) {\n",
              "      if (!google.colab.kernel.accessAllowed) {\n",
              "        return;\n",
              "      }\n",
              "      const div = document.createElement('div');\n",
              "      const label = document.createElement('label');\n",
              "      label.textContent = `Downloading \"${filename}\": `;\n",
              "      div.appendChild(label);\n",
              "      const progress = document.createElement('progress');\n",
              "      progress.max = size;\n",
              "      div.appendChild(progress);\n",
              "      document.body.appendChild(div);\n",
              "\n",
              "      const buffers = [];\n",
              "      let downloaded = 0;\n",
              "\n",
              "      const channel = await google.colab.kernel.comms.open(id);\n",
              "      // Send a message to notify the kernel that we're ready.\n",
              "      channel.send({})\n",
              "\n",
              "      for await (const message of channel.messages) {\n",
              "        // Send a message to notify the kernel that we're ready.\n",
              "        channel.send({})\n",
              "        if (message.buffers) {\n",
              "          for (const buffer of message.buffers) {\n",
              "            buffers.push(buffer);\n",
              "            downloaded += buffer.byteLength;\n",
              "            progress.value = downloaded;\n",
              "          }\n",
              "        }\n",
              "      }\n",
              "      const blob = new Blob(buffers, {type: 'application/binary'});\n",
              "      const a = document.createElement('a');\n",
              "      a.href = window.URL.createObjectURL(blob);\n",
              "      a.download = filename;\n",
              "      div.appendChild(a);\n",
              "      a.click();\n",
              "      div.remove();\n",
              "    }\n",
              "  "
            ]
          },
          "metadata": {}
        },
        {
          "output_type": "display_data",
          "data": {
            "text/plain": [
              "<IPython.core.display.Javascript object>"
            ],
            "application/javascript": [
              "download(\"download_0e62ca07-f819-4bb2-8141-3f263a988285\", \"Confusion_Matrix.png\", 6097)"
            ]
          },
          "metadata": {}
        }
      ]
    }
  ]
}